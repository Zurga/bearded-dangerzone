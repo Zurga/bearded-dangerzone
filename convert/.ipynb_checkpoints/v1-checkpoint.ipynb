{
 "cells": [
  {
   "cell_type": "code",
   "execution_count": 4,
   "metadata": {
    "collapsed": false
   },
   "outputs": [],
   "source": [
    "import pandas as pd\n",
    "import json\n",
    "import csv\n",
    "import glob\n",
    "import os\n",
    "\n",
    "def get_vars(csvfile):\n",
    "    \"\"\"\n",
    "    Returns the vars used by the CBS as a dict.\n",
    "    \"\"\"\n",
    "    with open(csvfile, \"rbU\") as f:\n",
    "        reader = reader=csv.reader(f, delimiter=';')\n",
    "        return {row[0]:row[1] for row in reader}\n",
    "\n",
    "variables = {os.path.basename(fn)[:-4]: get_vars(fn) for fn in glob.glob('data/csv/vars/*')\n",
    "             if not fn.endswith(\"~\")}"
   ]
  },
  {
   "cell_type": "code",
   "execution_count": 2,
   "metadata": {
    "collapsed": false,
    "scrolled": true
   },
   "outputs": [],
   "source": [
    "def get_json(var, variables, years, location = \"data/csv/\"):\n",
    "    \"\"\"\n",
    "    Returns a json string per item in which the data for the given years is included.\n",
    "    \n",
    "    var: string\n",
    "    variables: nested dictionary\n",
    "    years: tuple -> ints\n",
    "    location: string\n",
    "    \n",
    "    E.g.\n",
    "    \n",
    "    get_json(\"aantal_mannen\", variables, (2003, 2014))\n",
    "    \"\"\"\n",
    "    \n",
    "    JSON = {var: {}}\n",
    "    \n",
    "    for year in xrange(years[0], years[1] + 1):\n",
    "        year = str(year)\n",
    "        item = variables[var][year]\n",
    "        areades = variables[\"regioaanduiding\"][year]\n",
    "        index = variables[\"regionaam\"][year]\n",
    "        data = pd.DataFrame.from_csv(location + year + \".csv\")\n",
    "\n",
    "        # Lower all input and all columns (CBS uses lower/upper case for its columns throughout the years).\n",
    "        item, areades, index = item.lower(), areades.lower(), index.lower()\n",
    "        data.columns = map(str.lower, data.columns)\n",
    "\n",
    "        # First select only all gemeentes, then filter based on given item and index. Set given index.\n",
    "        df = data[(data[areades] == 'Gemeente') | (data[areades] == 'G')].filter([item, index]).set_index(index)\n",
    "        \n",
    "        # Write to JSON.\n",
    "        JSON[var][year] = json.loads(df[item].to_json())\n",
    "            \n",
    "    return JSON\n",
    "\n",
    "def write_json(variables):\n",
    "    for var in variables:\n",
    "        if not var in [\"regionaam\", \"buurtcode\"]:\n",
    "            with open(\"data/json/\" + var + \".json\", 'w') as f:\n",
    "                json.dump(get_json(var, variables, (2004, 2014), location = \"data/csv/\"), f)"
   ]
  },
  {
   "cell_type": "code",
   "execution_count": 20,
   "metadata": {
    "collapsed": false
   },
   "outputs": [
    {
     "name": "stdout",
     "output_type": "stream",
     "text": [
      "\n"
     ]
    }
   ],
   "source": [
    "def list_columns(year, location):\n",
    "    year = str(year)\n",
    "    return sorted(pd.DataFrame.from_csv(location + year + \".csv\").columns)"
   ]
  },
  {
   "cell_type": "code",
   "execution_count": 5,
   "metadata": {
    "collapsed": false
   },
   "outputs": [
    {
     "ename": "TypeError",
     "evalue": "get_json() takes at least 3 arguments (2 given)",
     "output_type": "error",
     "traceback": [
      "\u001b[1;31m---------------------------------------------------------------------------\u001b[0m",
      "\u001b[1;31mTypeError\u001b[0m                                 Traceback (most recent call last)",
      "\u001b[1;32m<ipython-input-5-f343f699b532>\u001b[0m in \u001b[0;36m<module>\u001b[1;34m()\u001b[0m\n\u001b[1;32m----> 1\u001b[1;33m \u001b[0mget_json\u001b[0m\u001b[1;33m(\u001b[0m\u001b[1;34m\"aantal_mannen\"\u001b[0m\u001b[1;33m,\u001b[0m \u001b[1;33m(\u001b[0m\u001b[1;36m2003\u001b[0m\u001b[1;33m,\u001b[0m \u001b[1;36m2014\u001b[0m\u001b[1;33m)\u001b[0m\u001b[1;33m)\u001b[0m\u001b[1;33m\u001b[0m\u001b[0m\n\u001b[0m",
      "\u001b[1;31mTypeError\u001b[0m: get_json() takes at least 3 arguments (2 given)"
     ]
    }
   ],
   "source": [
    "get_json(\"aantal_mannen\", (2003, 2014))"
   ]
  },
  {
   "cell_type": "code",
   "execution_count": null,
   "metadata": {
    "collapsed": true
   },
   "outputs": [],
   "source": []
  }
 ],
 "metadata": {
  "kernelspec": {
   "display_name": "Python 2",
   "language": "python",
   "name": "python2"
  },
  "language_info": {
   "codemirror_mode": {
    "name": "ipython",
    "version": 2
   },
   "file_extension": ".py",
   "mimetype": "text/x-python",
   "name": "python",
   "nbconvert_exporter": "python",
   "pygments_lexer": "ipython2",
   "version": "2.7.9"
  }
 },
 "nbformat": 4,
 "nbformat_minor": 0
}
