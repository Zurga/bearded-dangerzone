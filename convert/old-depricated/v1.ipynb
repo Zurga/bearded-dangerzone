{
 "cells": [
  {
   "cell_type": "code",
   "execution_count": 1,
   "metadata": {
    "collapsed": false
   },
   "outputs": [],
   "source": [
    "import pandas as pd\n",
    "import json\n",
    "import csv\n",
    "import glob\n",
    "import os\n",
    "\n",
    "def list_columns(year, location):\n",
    "    year = str(year)\n",
    "    return sorted(pd.DataFrame.from_csv(location + year + \".csv\").columns)\n",
    "\n",
    "def get_vars(csvfile):\n",
    "    \"\"\"\n",
    "    Returns the vars used by the CBS as a dict.\n",
    "    \"\"\"\n",
    "    with open(csvfile, \"rbU\") as f:\n",
    "        reader = reader=csv.reader(f, delimiter=';')\n",
    "        return {row[0]:row[1] for row in reader}\n",
    "\n",
    "variables = {os.path.basename(fn)[:-4]: get_vars(fn) for fn in glob.glob('data/csv/vars/*')\n",
    "             if not fn.endswith(\"~\")}"
   ]
  },
  {
   "cell_type": "code",
   "execution_count": 2,
   "metadata": {
    "collapsed": false,
    "scrolled": true
   },
   "outputs": [],
   "source": [
    "def get_json(var, variables, years, location = \"data/csv/\"):\n",
    "    \"\"\"\n",
    "    Returns a json string per item in which the data for the given years is included.\n",
    "    \n",
    "    var: string\n",
    "    variables: nested dictionary\n",
    "    years: tuple -> ints\n",
    "    location: string\n",
    "    \n",
    "    E.g.\n",
    "    \n",
    "    get_json(\"aantal_mannen\", variables, (2003, 2015))\n",
    "    \"\"\"\n",
    "    \n",
    "    JSON = {}\n",
    "    \n",
    "    for year in xrange(years[0], years[1] + 1):\n",
    "        year = str(year)\n",
    "        item = variables[var][year]\n",
    "        areades = variables[\"regioaanduiding\"][year]\n",
    "        index = variables[\"regionaam\"][year]\n",
    "        data = pd.DataFrame.from_csv(location + year + \".csv\")\n",
    "\n",
    "        # Lower all input and all columns (CBS uses lower/upper case for its columns throughout the years).\n",
    "        item, areades, index = item.lower(), areades.lower(), index.lower()\n",
    "        data.columns = map(str.lower, data.columns)\n",
    "\n",
    "        # First select only all gemeentes, then filter based on given item and index. Set given index.\n",
    "        df = data[(data[areades] == 'Gemeente') | (data[areades] == 'G')].filter([item, index]).set_index(index)\n",
    "        \n",
    "        # Write to JSON.\n",
    "        JSON[year] = json.loads(df[item].to_json())\n",
    "            \n",
    "    return JSON\n",
    "\n",
    "def write_json(variables):\n",
    "    for var in variables:\n",
    "        if not var in [\"aantal_ao_uitkering\", \"aantal_geboorte\", \"meest_voorkomende_postcode\", \n",
    "                       \"personen_ao_uitkering_totaal\", \"woningvoorraad_aantal\", \"regionaam\", \n",
    "                       \"buurtcode\", \"regioaanduiding\", \"gemeentecode\"]:\n",
    "            print \"Currently writing %s.json.\" % var\n",
    "            with open(\"data/json/\" + var + \".json\", 'w') as f:\n",
    "                json.dump(get_json(var, variables, (2006, 2014), location = \"data/csv/\"), f)"
   ]
  },
  {
   "cell_type": "code",
   "execution_count": 3,
   "metadata": {
    "collapsed": false
   },
   "outputs": [
    {
     "name": "stderr",
     "output_type": "stream",
     "text": [
      "/Users/joostverkaik/anaconda/lib/python2.7/site-packages/pandas/io/parsers.py:1159: DtypeWarning: Columns (21,89,112,120) have mixed types. Specify dtype option on import or set low_memory=False.\n",
      "  data = self._reader.read(nrows)\n",
      "/Users/joostverkaik/anaconda/lib/python2.7/site-packages/pandas/io/parsers.py:1159: DtypeWarning: Columns (79,82,83) have mixed types. Specify dtype option on import or set low_memory=False.\n",
      "  data = self._reader.read(nrows)\n"
     ]
    },
    {
     "name": "stdout",
     "output_type": "stream",
     "text": [
      "Currently writing personenautos_naar_oppervlakte.json.\n",
      "Currently writing motortweewielers.json.\n",
      "Currently writing personenautos_totaal.json.\n",
      "Currently writing niet_westers_totaal_percentage.json.\n",
      "Currently writing aandeel_allochtonen_westers_percentage.json.\n",
      "Currently writing bedrijsmotorvoertuigen.json.\n",
      "Currently writing 15_tot_25_jaar.json.\n",
      "Currently writing aandeel_allochtonen_marokko_percentages.json.\n",
      "Currently writing bevolkingsdichtheid.json.\n",
      "Currently writing 65_of_ouder.json.\n",
      "Currently writing personenautos_per_huishouden.json.\n",
      "Currently writing aantal_huishoudens.json.\n",
      "Currently writing aandeel_allochtonen_turkije_percentage.json.\n",
      "Currently writing 45_tot_64_jaar.json.\n",
      "Currently writing oppervlakte_water.json.\n",
      "Currently writing overig_niet_westers_percentage.json.\n",
      "Currently writing voormalige_nederlandse_antillen_en_aruba.json.\n",
      "Currently writing 0_tot_15_jaar.json.\n",
      "Currently writing eenpersoonshuishoudens.json.\n",
      "Currently writing omgevingsadressendichtheid.json.\n",
      "Currently writing aandeel_allochtonen_suriname_percentage.json.\n",
      "Currently writing aantal_vrouwen.json.\n",
      "Currently writing oppervlakte_totaal.json.\n",
      "Currently writing huishoudens_met_kinderen.json.\n",
      "Currently writing gemiddelde_huishoudensgrootte.json.\n",
      "Currently writing stedelijkheid.json.\n",
      "Currently writing aantal_mannen.json.\n",
      "Currently writing 25_tot_45_jaar.json.\n"
     ]
    },
    {
     "name": "stderr",
     "output_type": "stream",
     "text": [
      "/Users/joostverkaik/anaconda/lib/python2.7/site-packages/pandas/io/parsers.py:1159: DtypeWarning: Columns (78,79,80,122,130) have mixed types. Specify dtype option on import or set low_memory=False.\n",
      "  data = self._reader.read(nrows)\n"
     ]
    }
   ],
   "source": [
    "write_json(variables)"
   ]
  }
 ],
 "metadata": {
  "kernelspec": {
   "display_name": "Python 2",
   "language": "python",
   "name": "python2"
  },
  "language_info": {
   "codemirror_mode": {
    "name": "ipython",
    "version": 2
   },
   "file_extension": ".py",
   "mimetype": "text/x-python",
   "name": "python",
   "nbconvert_exporter": "python",
   "pygments_lexer": "ipython2",
   "version": "2.7.10"
  }
 },
 "nbformat": 4,
 "nbformat_minor": 0
}
