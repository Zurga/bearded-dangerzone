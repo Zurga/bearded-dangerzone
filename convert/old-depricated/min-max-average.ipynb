{
 "cells": [
  {
   "cell_type": "code",
   "execution_count": 1,
   "metadata": {
    "collapsed": false
   },
   "outputs": [
    {
     "name": "stdout",
     "output_type": "stream",
     "text": [
      "\n"
     ]
    }
   ],
   "source": [
    "\"\"\"\n",
    "{\"2006\": {\"Flevoland\": \n",
    "                {\"noordoostpolder\": \"22\", \n",
    "                 \"urk\": \"32\", \n",
    "                 \"lelystad\": \"20\", \n",
    "                  \"almere\": \"23\", \n",
    "                  \"dronten\": \"21\", \n",
    "                  \"zeewolde\": \"26\"\n",
    "                  \"__provdata\": {\n",
    "                              \"min\": [\"lelystad\", \"20\"], \n",
    "                              \"max\": [\"urk\", \"32\"], \n",
    "                              \"avg\": \"24\"\n",
    "                            }\n",
    "          \"__countrydata\":\n",
    "                   {\"min\": \"Flevoland\",\n",
    "                    \"max\": \"Zeeland\",\n",
    "                    \"avg\": \"39\"}\n",
    "\"\"\"\n",
    "\n",
    "#var[\"2006\"][[\"__countrydata\"][\"min\"]][\"__provdata\"][\"min\"]\n",
    "print"
   ]
  },
  {
   "cell_type": "code",
   "execution_count": 2,
   "metadata": {
    "collapsed": false
   },
   "outputs": [],
   "source": [
    "import pandas as pd\n",
    "import numpy as np\n",
    "import math\n",
    "import json\n",
    "import csv\n",
    "import glob\n",
    "import os\n",
    "\n",
    "\n",
    "def list_columns(year, location):\n",
    "\t\"\"\"\n",
    "\tReturns all columns of a specific year.csv file.\n",
    "\tThis file is identical to the .xls file provided by the CBS,\n",
    "\tbut is converted to CSV format.\n",
    "\t\"\"\"\n",
    "\treturn sorted(pd.DataFrame.from_csv(location + \\\n",
    "\t\t\t\t\tstr(year) + \".csv\").columns)\n",
    "\n",
    "def get_vars(csvfile):\n",
    "    \"\"\"\n",
    "    Returns a dictionary of correct variables for a specific year.\n",
    "    \"\"\"\n",
    "    with open(csvfile, \"rbU\") as f:\n",
    "        reader = reader=csv.reader(f, delimiter=';')\n",
    "        return {row[0]:row[1] for row in reader}\n",
    "\n",
    "def get_countrydata(JSON):\n",
    "    minimum = min((JSON[province][\"__provdata\"][\"min\"] for province in JSON.keys()), \n",
    "                                                                key = lambda x: x[2])\n",
    "    \n",
    "    maximum = max((JSON[province][\"__provdata\"][\"max\"] for province in JSON.keys()), \n",
    "                                                                key = lambda x: x[2])\n",
    "    \n",
    "    average = np.mean([JSON[province][\"__provdata\"][\"avg\"] for province in JSON.keys()])\n",
    "    \n",
    "    return {\"min\": minimum,\n",
    "            \"max\": maximum,\n",
    "            \"avg\": average}\n",
    "\n",
    "\n",
    "# Dictionary of correct variables for all years.\n",
    "variables = {os.path.basename(fn)[:-4]: get_vars(fn)\n",
    "\t\t\t\tfor fn in glob.glob('data/csv/vars/*')\n",
    "\t\t\t\tif not fn.endswith(\"~\")}\n",
    "\n",
    "# List of all provinces.\n",
    "provinces = [\"Groningen\", \"Friesland\", \"Drenthe\", \"Overijssel\",\n",
    "            \"Flevoland\", \"Gelderland\", \"Utrecht\", \"Noord-Holland\",\n",
    "             \"Zuid-Holland\", \"Zeeland\", \"Noord-Brabant\", \"Limburg\"]\n",
    "\n",
    "def get_json(var, variables, provinces, years, location = \"data/csv/\"):\n",
    "    \"\"\"\n",
    "    Returns a json string per item,\n",
    "    in which the data for the given years is included.\n",
    "\n",
    "    var: string\n",
    "    variables: nested dictionary\n",
    "    provinces: list of Dutch provinces\n",
    "    years: tuple -> ints\n",
    "    location: string\n",
    "\n",
    "    E.g.\n",
    "\n",
    "    > get_json(\"aantal_mannen\", variables, provinces, (2010, 2014))\n",
    "    >>> {'2010': {'Drenthe':  { u'Aa en Hunze': 12685,\n",
    "\t\t\t\t\t\t\t\tu'Assen': 32605,\n",
    "\t\t\t\t\t\t\t\t...\n",
    "\t\t\t\t\t\t\t  },\n",
    "\t\t\t\t 'Flevoland': {u'Almere': 93510,\n",
    "\t\t\t\t\t\t\t   u'Dronten': 20185,\n",
    "\t\t\t\t\t\t\t   ...\n",
    "\t\t\t\t\t\t\t  }\n",
    "\t\t\t\t },\n",
    "\n",
    "\t\t '2011': {...\n",
    "\t\t }\n",
    "    \"\"\"\n",
    "\n",
    "    JSON = {}\n",
    "\n",
    "    # For each year provided in the years tuple parameter...\n",
    "    for year in xrange(years[0], years[1] + 1):\n",
    "\t\t# Create a new entry in the JSON dict.\n",
    "\n",
    "        year = str(year)\n",
    "        JSON[year] = {}\n",
    "\n",
    "        # Retrieve correct variable names.\n",
    "        item = variables[var][year]\n",
    "        areades = variables[\"regioaanduiding\"][year]\n",
    "        index = variables[\"regionaam\"][year]\n",
    "        data = pd.DataFrame.from_csv(location + year + \".csv\")\n",
    "\n",
    "        # Lower all input and all columns\n",
    "        # (CBS uses multicase for its columns throughout the years).\n",
    "        item, areades = item.lower(), areades.lower()\n",
    "        index = index.lower()\n",
    "        data.columns = map(str.lower, data.columns)\n",
    "\n",
    "        # First select only all gemeentes,\n",
    "        # then filter based on given item and index.\n",
    "        # This will be for all gemeentes in all provinces.\n",
    "        root = data[(data[areades] == 'Gemeente') |\n",
    "                    (data[areades] == 'G')].filter([item, index])\n",
    "                    \n",
    "        # If var is float, multiply by 100.\n",
    "        if var == \"gemiddelde_huishoudensgrootte\" or var == \"personenautos_per_huishouden\":\n",
    "            root[item] = root[item].apply(lambda x: float(x.replace(',', '.'))*100 if x != \"x\" else None)\n",
    "\n",
    "        # DataFrame consisting of Gemeente,Provincie data.\n",
    "        # Foor 2004 and 2005, assuming data is equal to 2006 data,\n",
    "        # because of nonexistence of data for these years.\n",
    "        try:\n",
    "            gemprov = pd.DataFrame.from_csv(location +\n",
    "                                            \"gemprov/\" + year + \".csv\")\n",
    "        except Exception as e:\n",
    "            gemprov = pd.DataFrame.from_csv(location +\n",
    "                                            \"gemprov/2006.csv\")\n",
    "\n",
    "        # For each province in the provinces list parameter...\n",
    "        for prov in provinces:\n",
    "            # Create a list of Gemeentes in currently iterated province.\n",
    "            gem = list(gemprov[(gemprov[\"PROVINCIE\"] == prov)]\n",
    "                       .filter([\"GEMEENTE\"]).T.columns)\n",
    "\n",
    "            # Filter root based on this list.\n",
    "            branch = root[(root[index].isin(gem))].set_index([index])\n",
    "\n",
    "            # Lowercase all Gemeente names.\n",
    "            branch.index = branch.index.str.lower()\n",
    "            \n",
    "            # Min, max, average for each province\n",
    "            bd = branch[item].to_dict()\n",
    "            values = map(lambda x: float(x), filter(lambda x: x != None and not math.isnan(x), bd.values()))\n",
    "            bd.update({\"__provdata\": {\"min\": [prov, branch[item].idxmin(skipna = True), \n",
    "                                                  min(values)], \n",
    "                                      \"max\": [prov, branch[item].idxmax(skipna = True), \n",
    "                                                  max(values)],\n",
    "                                      \"avg\": np.mean(values)}}\n",
    "                     )\n",
    "            \n",
    "            # Write to JSON dictionary.\n",
    "            JSON[year][prov] = json.loads(json.dumps(bd))\n",
    "        \n",
    "        # Min, max, average for whole country\n",
    "        JSON[year][\"__countrydata\"] = get_countrydata(JSON[year])\n",
    "        \n",
    "    return JSON"
   ]
  },
  {
   "cell_type": "code",
   "execution_count": 3,
   "metadata": {
    "collapsed": false
   },
   "outputs": [
    {
     "data": {
      "text/plain": [
       "{'avg': 117.24437508700913,\n",
       " 'max': [u'Utrecht', u'houten', 229.99999999999997],\n",
       " 'min': [u'Noord-Holland', u'amsterdam', 50.0]}"
      ]
     },
     "execution_count": 3,
     "metadata": {},
     "output_type": "execute_result"
    }
   ],
   "source": [
    "get_json(\"personenautos_per_huishouden\", variables, provinces, (2014, 2014))[\"2014\"][\"__countrydata\"]"
   ]
  },
  {
   "cell_type": "code",
   "execution_count": null,
   "metadata": {
    "collapsed": false
   },
   "outputs": [],
   "source": []
  },
  {
   "cell_type": "code",
   "execution_count": 5,
   "metadata": {
    "collapsed": false
   },
   "outputs": [
    {
     "data": {
      "text/plain": [
       "[3.0, 5.0, 5.0, 3.0]"
      ]
     },
     "execution_count": 5,
     "metadata": {},
     "output_type": "execute_result"
    }
   ],
   "source": [
    "map(lambda x: float(x), ['3', '5', 5, 3.0])"
   ]
  },
  {
   "cell_type": "code",
   "execution_count": null,
   "metadata": {
    "collapsed": true
   },
   "outputs": [],
   "source": []
  },
  {
   "cell_type": "code",
   "execution_count": null,
   "metadata": {
    "collapsed": true
   },
   "outputs": [],
   "source": []
  }
 ],
 "metadata": {
  "kernelspec": {
   "display_name": "Python 2",
   "language": "python",
   "name": "python2"
  },
  "language_info": {
   "codemirror_mode": {
    "name": "ipython",
    "version": 2
   },
   "file_extension": ".py",
   "mimetype": "text/x-python",
   "name": "python",
   "nbconvert_exporter": "python",
   "pygments_lexer": "ipython2",
   "version": "2.7.9"
  }
 },
 "nbformat": 4,
 "nbformat_minor": 0
}
