{
 "cells": [
  {
   "cell_type": "code",
   "execution_count": 1,
   "metadata": {
    "collapsed": false
   },
   "outputs": [],
   "source": [
    "import collections\n",
    "import csv\n",
    "import json\n",
    "import pandas as pd\n",
    "\n",
    "filenames = [\"2006gemeentenperprovincie.csv\",\"2007gemeentenperprovincie.csv\",\n",
    "            \"2008gemeentenperprovincie.csv\", \"20090101gemeentenalfabetischperprovincie.csv\",\n",
    "            \"gemeentenalfabetischperprovincie2010.csv\", \"2011gemeentenalfabetischperprovincie.csv\",\n",
    "            \"2012gemeentenalfabetischperprovincie.csv\",\"2013gemeentenalfabetischperprovincie.csv\",\n",
    "            \"2014gemeentenalfabetischperprovincie.csv\",]\n",
    "            \n",
    "\n",
    "provincies = {\"Groningen\":20,\"Friesland\":21,\"Drenthe\":22,\"Overijssel\":23,\"Flevoland\":24,\"Gelderland\":25,\n",
    "             \"Utrecht\":26,\"Noord-Holland\":27,\"Zuid-Holland\":28,\"Zeeland\":29,\"Noord-Brabant\":30,\"Limburg\":31}"
   ]
  },
  {
   "cell_type": "code",
   "execution_count": 12,
   "metadata": {
    "collapsed": false
   },
   "outputs": [],
   "source": [
    "def get_dict(csvfile, provincie):\n",
    "    df = pd.DataFrame.from_csv(csvfile)\n",
    "    df_filtered = df[df['provcodel'] == provincie].to_dict()\n",
    "    provcode = str(provincies[provincie])\n",
    "    gemeentenummers = [str(key) for key in df_filtered[\"provcodel\"].keys()]\n",
    "    \n",
    "    gemeentecodes = []\n",
    "    for num in gemeentenummers:\n",
    "        while len(num) < 4:\n",
    "            num = '0'+num\n",
    "        gemeentecodes.append(\"gm\"+num)\n",
    "    return gemeentecodes\n",
    "\n",
    "def write_provincies():\n",
    "    JSON = {}\n",
    "    for year in range(2006, 2015):\n",
    "        filename = filenames[range(2006, 2015).index(year)]\n",
    "        year = str(year)\n",
    "        JSON[year] = {}\n",
    "        for prov, code in provincies.items():\n",
    "            JSON[year][code] = get_dict(filename, prov)\n",
    "            \n",
    "    with open('provincies.json', 'w') as outfile:\n",
    "        json.dump(JSON, outfile)\n",
    "    \n",
    "            "
   ]
  },
  {
   "cell_type": "code",
   "execution_count": 13,
   "metadata": {
    "collapsed": false
   },
   "outputs": [],
   "source": [
    "write_provincies()"
   ]
  },
  {
   "cell_type": "code",
   "execution_count": null,
   "metadata": {
    "collapsed": true
   },
   "outputs": [],
   "source": []
  }
 ],
 "metadata": {
  "kernelspec": {
   "display_name": "Python 2",
   "language": "python",
   "name": "python2"
  },
  "language_info": {
   "codemirror_mode": {
    "name": "ipython",
    "version": 2
   },
   "file_extension": ".py",
   "mimetype": "text/x-python",
   "name": "python",
   "nbconvert_exporter": "python",
   "pygments_lexer": "ipython2",
   "version": "2.7.9"
  }
 },
 "nbformat": 4,
 "nbformat_minor": 0
}
