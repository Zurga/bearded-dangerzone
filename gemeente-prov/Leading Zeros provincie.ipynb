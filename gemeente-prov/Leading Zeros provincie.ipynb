{
 "cells": [
  {
   "cell_type": "code",
   "execution_count": 1,
   "metadata": {
    "collapsed": true
   },
   "outputs": [],
   "source": [
    "import pandas as pd\n",
    "import json\n",
    "d = dict(json.loads(open(\"provincies.json\", 'r').read()))"
   ]
  },
  {
   "cell_type": "code",
   "execution_count": 2,
   "metadata": {
    "collapsed": false
   },
   "outputs": [],
   "source": [
    "for year in d.keys():\n",
    "    for prov in d[year].keys():\n",
    "        x = []\n",
    "        for code in d[year][prov]:\n",
    "            if len(code[2:]) == 1:\n",
    "                x.append(code[:2] + '000' + code[2:])\n",
    "            elif len(code[2:]) == 2:\n",
    "                x.append(code[:2] + '00' + code[2:])\n",
    "            elif len(code[2:]) == 3:\n",
    "                x.append(code[:2] + '0' + code[2:])\n",
    "            else:\n",
    "                x.append(code)\n",
    "        d[year][prov] = x"
   ]
  },
  {
   "cell_type": "code",
   "execution_count": 3,
   "metadata": {
    "collapsed": false
   },
   "outputs": [],
   "source": [
    "with open('provincies_goed.json', 'w') as outfile:\n",
    "    json.dump(d, outfile)"
   ]
  },
  {
   "cell_type": "code",
   "execution_count": null,
   "metadata": {
    "collapsed": true
   },
   "outputs": [],
   "source": []
  }
 ],
 "metadata": {
  "kernelspec": {
   "display_name": "Python 2",
   "language": "python",
   "name": "python2"
  },
  "language_info": {
   "codemirror_mode": {
    "name": "ipython",
    "version": 2
   },
   "file_extension": ".py",
   "mimetype": "text/x-python",
   "name": "python",
   "nbconvert_exporter": "python",
   "pygments_lexer": "ipython2",
   "version": "2.7.9"
  }
 },
 "nbformat": 4,
 "nbformat_minor": 0
}
