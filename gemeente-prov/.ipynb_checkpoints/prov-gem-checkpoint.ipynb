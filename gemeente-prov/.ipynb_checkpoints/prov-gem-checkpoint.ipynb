{
 "cells": [
  {
   "cell_type": "code",
   "execution_count": 32,
   "metadata": {
    "collapsed": false
   },
   "outputs": [],
   "source": [
    "import csv\n",
    "import json\n",
    "import pandas as pd\n",
    "\n",
    "filenames = [\"2006gemeentenperprovincie.csv\",\"2007gemeentenperprovincie.csv\",\n",
    "            \"2008gemeentenperprovincie.csv\",\"2011gemeentenalfabetischperprovincie.csv\",\n",
    "            \"2012gemeentenalfabetischperprovincie.csv\",\"2013gemeentenalfabetischperprovincie.csv\",\n",
    "            \"2014gemeentenalfabetischperprovincie.csv\",\"20090101gemeentenalfabetischperprovincie.csv\",\n",
    "            \"gemeentenalfabetischperprovincie2010.csv\"]\n",
    "            \n",
    "\n",
    "provincies = {\"Groningen\":20,\"Friesland\":21,\"Drenthe\":22,\"Overijssel\":23,\"Flevoland\":24,\"Gelderland\":25,\n",
    "             \"Utrecht\":26,\"Noord-Holland\":27,\"Zuid-Holland\":28,\"Zeeland\":29,\"Noord-Brabant\":30,\"Limburg\":31}\n",
    "\n",
    "#df = pd.DataFrame.from_csv(\"2014gemeentenalfabetischperprovincie.csv\")\n",
    "    \n"
   ]
  },
  {
   "cell_type": "code",
   "execution_count": 37,
   "metadata": {
    "collapsed": false
   },
   "outputs": [
    {
     "data": {
      "text/plain": [
       "{'20': ['GM3',\n",
       "  'GM5',\n",
       "  'GM7',\n",
       "  'GM9',\n",
       "  'GM10',\n",
       "  'GM14',\n",
       "  'GM15',\n",
       "  'GM17',\n",
       "  'GM18',\n",
       "  'GM22',\n",
       "  'GM24',\n",
       "  'GM25',\n",
       "  'GM37',\n",
       "  'GM40',\n",
       "  'GM47',\n",
       "  'GM48',\n",
       "  'GM53',\n",
       "  'GM56',\n",
       "  'GM1987',\n",
       "  'GM1895',\n",
       "  'GM1651',\n",
       "  'GM765',\n",
       "  'GM1663']}"
      ]
     },
     "execution_count": 37,
     "metadata": {},
     "output_type": "execute_result"
    }
   ],
   "source": [
    "def get_dict(csvfile, provincie):\n",
    "    df = pd.DataFrame.from_csv(csvfile)\n",
    "    df_filtered = df[df['provcodel'] == provincie].to_dict()\n",
    "    provcode = str(provincies[provincie])\n",
    "    return {provcode: [\"GM\"+str(key) for key in df_filtered[\"provcodel\"].keys()]}\n",
    "    \n",
    "\n",
    "get_dict(\"2014gemeentenalfabetischperprovincie.csv\", \"Groningen\")\n",
    "\n",
    "for \n",
    "    "
   ]
  },
  {
   "cell_type": "code",
   "execution_count": null,
   "metadata": {
    "collapsed": true
   },
   "outputs": [],
   "source": []
  }
 ],
 "metadata": {
  "kernelspec": {
   "display_name": "Python 2",
   "language": "python",
   "name": "python2"
  },
  "language_info": {
   "codemirror_mode": {
    "name": "ipython",
    "version": 2
   },
   "file_extension": ".py",
   "mimetype": "text/x-python",
   "name": "python",
   "nbconvert_exporter": "python",
   "pygments_lexer": "ipython2",
   "version": "2.7.8"
  }
 },
 "nbformat": 4,
 "nbformat_minor": 0
}
